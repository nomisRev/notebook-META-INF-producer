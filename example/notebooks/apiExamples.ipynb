{
 "cells": [
  {
   "cell_type": "code",
   "metadata": {
    "collapsed": true,
    "ExecuteTime": {
     "end_time": "2025-04-14T08:37:23.302138Z",
     "start_time": "2025-04-14T08:37:23.279138Z"
    }
   },
   "source": "import org.jetbrains.jupyter.helpers.*",
   "outputs": [],
   "execution_count": 1
  },
  {
   "metadata": {
    "ExecuteTime": {
     "end_time": "2025-04-14T08:38:01.475891Z",
     "start_time": "2025-04-14T08:37:51.937322Z"
    }
   },
   "cell_type": "code",
   "source": [
    "val myMd = \"\"\"\n",
    "## My table...\n",
    "\n",
    "| Header 1   | Header 2   | Header 3   |\n",
    "|------------|------------|------------|\n",
    "| Row 1 Col1 | Row 1 Col2 | Row 1 Col3 |\n",
    "| Row 2 Col1 | Row 2 Col2 | Row 2 Col3 |\n",
    "| Row 3 Col1 | Row 3 Col2 | Row 3 Col3 |\n",
    "\"\"\"\n",
    "\n",
    "val out = updatableMarkdown()\n",
    "\n",
    "sequence {\n",
    "    var i = 0\n",
    "    val pieceSize = 5\n",
    "    while (true) {\n",
    "        if (i >= myMd.length) return@sequence\n",
    "        val end = min(i + pieceSize, myMd.length)\n",
    "        yield(myMd.substring(i, end))\n",
    "        i += pieceSize\n",
    "        Thread.sleep(200)\n",
    "    }\n",
    "}.forEach { piece ->\n",
    "    out.append(piece)\n",
    "}"
   ],
   "outputs": [
    {
     "data": {
      "text/markdown": "\n## My table...\n\n| Header 1   | Header 2   | Header 3   |\n|------------|------------|------------|\n| Row 1 Col1 | Row 1 Col2 | Row 1 Col3 |\n| Row 2 Col1 | Row 2 Col2 | Row 2 Col3 |\n| Row 3 Col1 | Row 3 Col2 | Row 3 Col3 |\n"
     },
     "metadata": {},
     "output_type": "display_data"
    }
   ],
   "execution_count": 2
  },
  {
   "metadata": {},
   "cell_type": "code",
   "outputs": [],
   "execution_count": null,
   "source": ""
  }
 ],
 "metadata": {
  "kernelspec": {
   "display_name": "Kotlin",
   "language": "kotlin",
   "name": "kotlin"
  },
  "language_info": {
   "name": "kotlin",
   "version": "1.9.23",
   "mimetype": "text/x-kotlin",
   "file_extension": ".kt",
   "pygments_lexer": "kotlin",
   "codemirror_mode": "text/x-kotlin",
   "nbconvert_exporter": ""
  },
  "ktnbPluginMetadata": {
   "projectDependencies": [
    "kotlinx-coroutines-langchain4j-adapters.example.main"
   ],
   "projectLibraries": false
  }
 },
 "nbformat": 4,
 "nbformat_minor": 0
}
