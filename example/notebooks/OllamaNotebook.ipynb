{
 "cells": [
  {
   "metadata": {
    "ExecuteTime": {
     "end_time": "2025-04-12T23:20:04.714357Z",
     "start_time": "2025-04-12T23:20:04.678430Z"
    }
   },
   "cell_type": "code",
   "source": "import org.jetbrains.jupyter.helpers.*",
   "outputs": [],
   "execution_count": 1
  },
  {
   "metadata": {
    "ExecuteTime": {
     "end_time": "2025-04-12T23:18:44.704802Z",
     "start_time": "2025-04-12T23:18:38.212777Z"
    }
   },
   "cell_type": "code",
   "source": [
    "import dev.langchain4j.agent.tool.Tool\n",
    "import dev.langchain4j.model.chat.ChatLanguageModel\n",
    "import dev.langchain4j.model.chat.StreamingChatLanguageModel\n",
    "import dev.langchain4j.model.ollama.OllamaChatModel\n",
    "import dev.langchain4j.model.ollama.OllamaStreamingChatModel\n",
    "import dev.langchain4j.service.AiServices\n",
    "import dev.langchain4j.service.SystemMessage\n",
    "import dev.langchain4j.service.Result\n",
    "import kotlinx.coroutines.flow.Flow\n",
    "import kotlinx.coroutines.flow.take\n",
    "import kotlinx.coroutines.flow.toList\n",
    "import kotlinx.coroutines.runBlocking\n",
    "\n",
    "val streamingChat: StreamingChatLanguageModel =\n",
    "    OllamaStreamingChatModel.builder()\n",
    "        .baseUrl(\"http://localhost:11434\")\n",
    "        .modelName(\"llama3.2\")\n",
    "        .logRequests(true)\n",
    "        .build()\n",
    "\n",
    "interface MathGenius {\n",
    "    @SystemMessage(\"You're a booking manager that follows users orders\")\n",
    "    fun ask(question: String): Flow<String>\n",
    "}\n",
    "\n",
    "val genius = AiServices.builder(MathGenius::class.java)\n",
    "    .streamingChatLanguageModel(streamingChat)\n",
    "    .build()\n",
    "\n",
    "val output = updatableMarkdown()\n",
    "\n",
    "runBlocking {\n",
    "    genius.ask(\"Can you cancel my booking with id 12345, and find available flights to Paris? Find me a rental large car when I arrive.\")\n",
    "        .collect { output.append(it) }\n",
    "}"
   ],
   "outputs": [
    {
     "ename": "org.jetbrains.kotlinx.jupyter.exceptions.ReplInterruptedException",
     "evalue": "The execution was interrupted",
     "output_type": "error",
     "traceback": []
    }
   ],
   "execution_count": 4
  },
  {
   "metadata": {
    "ExecuteTime": {
     "end_time": "2025-04-12T23:17:33.087979Z",
     "start_time": "2025-04-12T23:17:33.045293Z"
    }
   },
   "cell_type": "code",
   "source": [
    "displayMarkdown(\"# Header\")\n",
    "displayMarkdown(\"\"\"\n",
    "| Header 1   | Header 2   | Header 3   |\n",
    "|------------|------------|------------|\n",
    "| Row 1 Col1 | Row 1 Col2 | Row 1 Col3 |\n",
    "| Row 2 Col1 | Row 2 Col2 | Row 2 Col3 |\n",
    "| Row 3 Col1 | Row 3 Col2 | Row 3 Col3 |\n",
    "\"\"\")"
   ],
   "outputs": [
    {
     "data": {
      "text/markdown": "# Header"
     },
     "metadata": {},
     "output_type": "display_data"
    },
    {
     "data": {
      "text/markdown": "\n| Header 1   | Header 2   | Header 3   |\n|------------|------------|------------|\n| Row 1 Col1 | Row 1 Col2 | Row 1 Col3 |\n| Row 2 Col1 | Row 2 Col2 | Row 2 Col3 |\n| Row 3 Col1 | Row 3 Col2 | Row 3 Col3 |\n"
     },
     "metadata": {},
     "output_type": "display_data"
    }
   ],
   "execution_count": 2
  },
  {
   "metadata": {
    "ExecuteTime": {
     "end_time": "2025-04-12T23:04:24.747246Z",
     "start_time": "2025-04-12T23:04:03.149258Z"
    }
   },
   "cell_type": "code",
   "source": [
    "val myMd = \"\"\"\n",
    "| Header 1   | Header 2   | Header 3   |\n",
    "|------------|------------|------------|\n",
    "| Row 1 Col1 | Row 1 Col2 | Row 1 Col3 |\n",
    "| Row 2 Col1 | Row 2 Col2 | Row 2 Col3 |\n",
    "| Row 3 Col1 | Row 3 Col2 | Row 3 Col3 |\n",
    "\"\"\"\n",
    "\n",
    "val out = updatableMarkdown()\n",
    "\n",
    "sequence {\n",
    "    var i = 0\n",
    "    val pieceSize = 5\n",
    "    while (true) {\n",
    "        if (i >= myMd.length) return@sequence\n",
    "        val end = min(i + pieceSize, myMd.length)\n",
    "        yield(myMd.substring(i, end))\n",
    "        i += pieceSize\n",
    "        Thread.sleep(500)\n",
    "    }\n",
    "}.forEach { piece ->\n",
    "    out.append(piece)\n",
    "}"
   ],
   "outputs": [
    {
     "data": {
      "text/markdown": "\n| Header 1   | Header 2   | Header 3   |\n|------------|------------|------------|\n| Row 1 Col1 | Row 1 Col2 | Row 1 Col3 |\n| Row 2 Col1 | Row 2 Col2 | Row 2 Col3 |\n| Row 3 Col1 | Row 3 Col2 | Row 3 Col3 |\n"
     },
     "metadata": {},
     "output_type": "display_data"
    }
   ],
   "execution_count": 3
  },
  {
   "metadata": {},
   "cell_type": "code",
   "outputs": [],
   "execution_count": null,
   "source": ""
  }
 ],
 "metadata": {
  "kernelspec": {
   "display_name": "Kotlin",
   "language": "kotlin",
   "name": "kotlin"
  },
  "language_info": {
   "name": "kotlin",
   "version": "1.9.23",
   "mimetype": "text/x-kotlin",
   "file_extension": ".kt",
   "pygments_lexer": "kotlin",
   "codemirror_mode": "text/x-kotlin",
   "nbconvert_exporter": ""
  },
  "ktnbPluginMetadata": {
   "projectDependencies": [
    "kotlinx-coroutines-langchain4j-adapters.example.main"
   ],
   "projectLibraries": false
  }
 },
 "nbformat": 4,
 "nbformat_minor": 0
}
