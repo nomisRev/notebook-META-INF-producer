{
 "cells": [
  {
   "metadata": {
    "ExecuteTime": {
     "end_time": "2025-04-12T16:26:43.888198Z",
     "start_time": "2025-04-12T16:24:57.635151Z"
    }
   },
   "cell_type": "code",
   "source": [
    "import dev.langchain4j.agent.tool.Tool\n",
    "import dev.langchain4j.model.chat.ChatLanguageModel\n",
    "import dev.langchain4j.model.chat.StreamingChatLanguageModel\n",
    "import dev.langchain4j.model.ollama.OllamaChatModel\n",
    "import dev.langchain4j.model.ollama.OllamaStreamingChatModel\n",
    "import dev.langchain4j.service.AiServices\n",
    "import dev.langchain4j.service.SystemMessage\n",
    "import dev.langchain4j.service.Result\n",
    "import kotlinx.coroutines.flow.Flow\n",
    "import kotlinx.coroutines.flow.take\n",
    "import kotlinx.coroutines.flow.toList\n",
    "import kotlinx.coroutines.runBlocking\n",
    "\n",
    "val chat: ChatLanguageModel =\n",
    "    OllamaChatModel.builder()\n",
    "        .baseUrl(\"http://localhost:11434\")\n",
    "        .logRequests(true)\n",
    "        .logResponses(true)\n",
    "        .modelName(\"llama3.2\")\n",
    "        .temperature(0.7)\n",
    "        .build()\n",
    "\n",
    "val streamingChat: StreamingChatLanguageModel =\n",
    "    OllamaStreamingChatModel.builder()\n",
    "        .baseUrl(\"http://localhost:11434\")\n",
    "        .modelName(\"llama3.2\")\n",
    "        .logRequests(true)\n",
    "        .build()\n",
    "\n",
    "interface MathGenius {\n",
    "    // TODO Notebook doesn't pick up TokenStreamToStringFlowAdapter through META-INF.services\n",
    "    @SystemMessage(\"You're a booking manager that follows users orders\")\n",
    "    fun ask(question: String): Flow<String>\n",
    "}\n",
    "\n",
    "val genius = AiServices.builder(MathGenius::class.java)\n",
    "    .chatLanguageModel(chat)\n",
    "    .streamingChatLanguageModel(streamingChat)\n",
    "    .build()\n",
    "\n",
    "runBlocking {\n",
    "        genius.ask(\"Can you cancel my booking with id 12345, and find available flights to Paris? Find me a rental large car when I arrive.\")\n",
    "            .take(1)\n",
    "            .toList()\n",
    "}"
   ],
   "outputs": [
    {
     "ename": "org.jetbrains.kotlinx.jupyter.exceptions.ReplInterruptedException",
     "evalue": "The execution was interrupted",
     "output_type": "error",
     "traceback": []
    }
   ],
   "execution_count": 8
  },
  {
   "metadata": {},
   "cell_type": "code",
   "outputs": [],
   "execution_count": null,
   "source": ""
  }
 ],
 "metadata": {
  "kernelspec": {
   "display_name": "Kotlin",
   "language": "kotlin",
   "name": "kotlin"
  },
  "language_info": {
   "name": "kotlin",
   "version": "1.9.23",
   "mimetype": "text/x-kotlin",
   "file_extension": ".kt",
   "pygments_lexer": "kotlin",
   "codemirror_mode": "text/x-kotlin",
   "nbconvert_exporter": ""
  },
  "ktnbPluginMetadata": {
   "projectDependencies": [
    "kotlinx-coroutines-langchain4j-adapters.main"
   ],
   "projectLibraries": false
  }
 },
 "nbformat": 4,
 "nbformat_minor": 0
}
